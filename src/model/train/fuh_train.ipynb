{
 "cells": [
  {
   "cell_type": "code",
   "execution_count": 9,
   "metadata": {},
   "outputs": [
    {
     "ename": "ModuleNotFoundError",
     "evalue": "No module named 'transformer'",
     "output_type": "error",
     "traceback": [
      "\u001b[0;31m---------------------------------------------------------------------------\u001b[0m",
      "\u001b[0;31mModuleNotFoundError\u001b[0m                       Traceback (most recent call last)",
      "Cell \u001b[0;32mIn[9], line 1\u001b[0m\n\u001b[0;32m----> 1\u001b[0m \u001b[38;5;28;01mfrom\u001b[39;00m \u001b[38;5;21;01mtransformer\u001b[39;00m \u001b[38;5;28;01mimport\u001b[39;00m Transformer\n\u001b[1;32m      2\u001b[0m \u001b[38;5;28;01mimport\u001b[39;00m \u001b[38;5;21;01mtorch\u001b[39;00m\n\u001b[1;32m      3\u001b[0m \u001b[38;5;28;01mimport\u001b[39;00m \u001b[38;5;21;01mnumpy\u001b[39;00m \u001b[38;5;28;01mas\u001b[39;00m \u001b[38;5;21;01mnp\u001b[39;00m\n",
      "\u001b[0;31mModuleNotFoundError\u001b[0m: No module named 'transformer'"
     ]
    }
   ],
   "source": [
    "from transformer import Transformer\n",
    "import torch\n",
    "import numpy as np"
   ]
  },
  {
   "cell_type": "code",
   "execution_count": null,
   "metadata": {},
   "outputs": [],
   "source": [
    "fulfulde_file = '/Users/dmarshall/Burkina-Testing/corpus/en-fuh/parallel/fuh.txt'\n",
    "english_file = '/Users/dmarshall/Burkina-Testing/corpus/en-fuh/parallel/en.txt'\n",
    "\n",
    "START_TOKEN = ''\n",
    "PADDING_TOKEN = ''\n",
    "END_TOKEN = ''\n",
    "\n",
    "fulfulde_vocab = [START_TOKEN, ' ', '!', '\"', '#', '$', '%', '&', \"'\", '(', ')', '*', '+', ',', '-', '.', '/',\n",
    "                '0', '1', '2', '3', '4', '5', '6', '7', '8', '9', ':', '<', '=', '>', '?', ',',\n",
    "                'a', 'b', 'ɓ', 'mb', 'c', 'd', 'ɗ', 'nd', 'e', 'f', 'g', 'ng', 'h', 'i', 'j', 'nj', 'k', 'l',\n",
    "                'm', 'n', 'ŋ', 'ñ', 'o', 'p', 'q', 'r', 's', 'sh', 't', 'u', 'w', 'x', 'y', 'ƴ', 'z',\n",
    "                PADDING_TOKEN, END_TOKEN]\n",
    "\n",
    "english_vocab = [START_TOKEN, ' ', '!', '\"', '#', '$', '%', '&', \"'\", '(', ')', '*', '+', ',', '-', '.', '/',\n",
    "                '0', '1', '2', '3', '4', '5', '6', '7', '8', '9', ':', '<', '=', '>', '?', ',', '0', '1', '2',\n",
    "                '3', '4', '5', '6', '7', '8', '9', ':', '<', '=', '>', '?', '@', '[', '\\'', ']', '^', '_', '`',\n",
    "                'a', 'b', 'c', 'd', 'e', 'f', 'g', 'h', 'i', 'j', 'k', 'l', 'm', 'n', 'o', 'p', 'q', 'r', 's', 't',\n",
    "                'u', 'v', 'w', 'x', 'y', 'z', '{', '|', '}', '~', PADDING_TOKEN, END_TOKEN]"
   ]
  },
  {
   "cell_type": "code",
   "execution_count": null,
   "metadata": {},
   "outputs": [],
   "source": [
    "index_to_fulfulde = {k:v for k,v in enumerate(fulfulde_vocab)}\n",
    "fulfulde_to_index = {v:k for k,v in enumerate(fulfulde_vocab)}\n",
    "index_to_english = {k:v for k,v in enumerate(english_vocab)}\n",
    "english_to_index = {v:k for k,v in enumerate(english_vocab)}"
   ]
  },
  {
   "cell_type": "code",
   "execution_count": null,
   "metadata": {},
   "outputs": [],
   "source": [
    "with open(fulfulde_file, 'r') as file:\n",
    "    fulfulde_sentences = file.readlines()\n",
    "with open(english_file, 'r') as file:\n",
    "    english_sentences = file.readlines()\n",
    "\n",
    "TOTAL_SENTENCES = 100000\n",
    "fulfulde_sentences = fulfulde_sentences[:TOTAL_SENTENCES]\n",
    "english_sentences = english_sentences[:TOTAL_SENTENCES]\n",
    "\n",
    "fulfulde_sentences = [sentence.rstrip('\\n') for sentence in fulfulde_sentences]\n",
    "english_sentences = [sentence.rstrip('\\n').lower() for sentence in english_sentences]"
   ]
  },
  {
   "cell_type": "code",
   "execution_count": null,
   "metadata": {},
   "outputs": [],
   "source": [
    "fulfulde_sentences[:10]"
   ]
  },
  {
   "cell_type": "code",
   "execution_count": null,
   "metadata": {},
   "outputs": [],
   "source": [
    "english_sentences[:10]"
   ]
  },
  {
   "cell_type": "code",
   "execution_count": null,
   "metadata": {},
   "outputs": [],
   "source": [
    "import numpy as np\n",
    "PERCENTILE = 97\n",
    "print( f\"{PERCENTILE}th percentile length Fulfulde: {np.percentile([len(x) for x in fulfulde_sentences], PERCENTILE)}\" )\n",
    "print( f\"{PERCENTILE}th percentile length English: {np.percentile([len(x) for x in english_sentences], PERCENTILE)}\" )\n"
   ]
  },
  {
   "cell_type": "code",
   "execution_count": null,
   "metadata": {},
   "outputs": [],
   "source": [
    "max_sequence_length = 200\n",
    "\n",
    "def is_valid_tokens(sentence, vocab):\n",
    "    for token in list(set(sentence)):\n",
    "        if token not in vocab:\n",
    "            return False\n",
    "    return True\n",
    "\n",
    "def is_valid_length(sentence, max_sequence_length):\n",
    "    return len(list(sentence)) < (max_sequence_length - 1)\n",
    "\n",
    "valid_sentence_indices = []\n",
    "for index in range(len(fulfulde_sentences)):\n",
    "    fulfulde_sentence, english_sentence = fulfulde_sentences[index], english_sentences[index]\n",
    "    if is_valid_length(fulfulde_sentence, max_sequence_length) \\\n",
    "        and is_valid_length(english_sentence, max_sequence_length) \\\n",
    "        and is_valid_tokens(fulfulde_sentence, fulfulde_vocab):\n",
    "            valid_sentence_indices.append(index)\n",
    "\n",
    "print(f\"Number of sentences: {len(fulfulde_sentences)}\")\n",
    "print(f\"Number of valid sentences: {len(valid_sentence_indices)}\")"
   ]
  },
  {
   "cell_type": "code",
   "execution_count": null,
   "metadata": {},
   "outputs": [],
   "source": [
    "fulfulde_sentences = [fulfulde_sentences[i] for i in valid_sentence_indices]\n",
    "english_sentences = [english_sentences[i] for i in valid_sentence_indices]"
   ]
  },
  {
   "cell_type": "code",
   "execution_count": null,
   "metadata": {},
   "outputs": [],
   "source": [
    "fulfulde_sentences[:3]"
   ]
  },
  {
   "cell_type": "code",
   "execution_count": null,
   "metadata": {},
   "outputs": [],
   "source": [
    "import torch\n",
    "\n",
    "d_model = 512\n",
    "batch_size = 30\n",
    "ffn_hidden = 2048\n",
    "num_heads = 8\n",
    "drop_prob = 0.1\n",
    "num_layers = 1\n",
    "max_sequence_length = 200\n",
    "fuh_vocab_size = len(fulfulde_vocab)\n",
    "\n",
    "transformer = Transformer(\n",
    "    d_model,\n",
    "    num_heads,\n",
    "    ffn_hidden,\n",
    "    drop_prob,\n",
    "    num_layers,\n",
    "    max_sequence_length,\n",
    "    fuh_vocab_size,\n",
    "    english_to_index,\n",
    "    fulfulde_to_index,\n",
    "    START_TOKEN,\n",
    "    END_TOKEN,\n",
    "    PADDING_TOKEN\n",
    ")"
   ]
  },
  {
   "cell_type": "code",
   "execution_count": 10,
   "metadata": {},
   "outputs": [
    {
     "ename": "NameError",
     "evalue": "name 'transformer' is not defined",
     "output_type": "error",
     "traceback": [
      "\u001b[0;31m---------------------------------------------------------------------------\u001b[0m",
      "\u001b[0;31mNameError\u001b[0m                                 Traceback (most recent call last)",
      "Cell \u001b[0;32mIn[10], line 1\u001b[0m\n\u001b[0;32m----> 1\u001b[0m \u001b[43mtransformer\u001b[49m\n",
      "\u001b[0;31mNameError\u001b[0m: name 'transformer' is not defined"
     ]
    }
   ],
   "source": [
    "transformer"
   ]
  },
  {
   "cell_type": "code",
   "execution_count": null,
   "metadata": {},
   "outputs": [],
   "source": [
    "from torch.utils.data import Dataset, DataLoader\n",
    "\n",
    "class TextDataset(Dataset):\n",
    "    def __init__(self, english_sentences, fulfulde_sentences):\n",
    "        self.fulfulde_sentences = fulfulde_sentences\n",
    "        self.english_sentences = english_sentences\n",
    "\n",
    "    def __len__(self):\n",
    "        return len(self.english_sentences)\n",
    "    \n",
    "    def __getitem__(self, idx):\n",
    "        return self.english_sentences[idx], self.fulfulde_sentences[idx]"
   ]
  },
  {
   "cell_type": "code",
   "execution_count": null,
   "metadata": {},
   "outputs": [],
   "source": [
    "dataset = TextDataset(fulfulde_sentences, english_sentences)"
   ]
  },
  {
   "cell_type": "code",
   "execution_count": null,
   "metadata": {},
   "outputs": [],
   "source": [
    "len(dataset)"
   ]
  },
  {
   "cell_type": "code",
   "execution_count": null,
   "metadata": {},
   "outputs": [],
   "source": [
    "dataset[1]"
   ]
  },
  {
   "cell_type": "code",
   "execution_count": null,
   "metadata": {},
   "outputs": [],
   "source": [
    "train_loader = DataLoader(dataset, batch_size)\n",
    "iterator = iter(train_loader)"
   ]
  },
  {
   "cell_type": "code",
   "execution_count": null,
   "metadata": {},
   "outputs": [],
   "source": [
    "for batch_num, batch in enumerate(iterator):\n",
    "    print(batch)\n",
    "    if batch_num > 3:\n",
    "        break"
   ]
  },
  {
   "cell_type": "code",
   "execution_count": null,
   "metadata": {},
   "outputs": [],
   "source": [
    "from torch import nn\n",
    "\n",
    "criterian = nn.CrossEntropyLoss(ignore_index=fulfulde_to_index[PADDING_TOKEN],\n",
    "                                reduction=\"none\")\n",
    "\n",
    "for params in transformer.parameters():\n",
    "    if params.dim() > 1:\n",
    "        nn.init.xavier_uniform_(params)\n",
    "\n",
    "optim = torch.optim.Adam(transformer.parameters(), lr=1e-4)\n",
    "device = torch.device('cuda') if torch.cuda_is_available() else torch.device('cpu')"
   ]
  },
  {
   "cell_type": "code",
   "execution_count": null,
   "metadata": {},
   "outputs": [],
   "source": [
    "NEG_INFTY = -1e9\n",
    "\n",
    "def create_masks(eng_batch, fuh_batch):\n",
    "    num_sentences = len(eng_batch)\n",
    "    look_ahead_mask = torch.full([max_sequence_length, max_sequence_length] , True)\n",
    "    look_ahead_mask = torch.triu(look_ahead_mask, diagonal=1)\n",
    "    encoder_padding_mask = torch.full([num_sentences, max_sequence_length, max_sequence_length] , False)\n",
    "    decoder_padding_mask_self_attention = torch.full([num_sentences, max_sequence_length, max_sequence_length] , False)\n",
    "    decoder_padding_mask_cross_attention = torch.full([num_sentences, max_sequence_length, max_sequence_length] , False)\n",
    "\n",
    "    for idx in range(num_sentences):\n",
    "        eng_sentence_length, fuh_sentence_length = len(eng_batch[idx]), len(fuh_batch[idx])\n",
    "        eng_chars_to_padding_mask = np.arange(eng_sentence_length + 1, max_sequence_length)\n",
    "        fuh_chars_to_padding_mask = np.arange(fuh_sentence_length + 1, max_sequence_length)\n",
    "        encoder_padding_mask[idx, :, eng_chars_to_padding_mask] = True\n",
    "        encoder_padding_mask[idx, eng_chars_to_padding_mask, :] = True\n",
    "        decoder_padding_mask_self_attention[idx, :, fuh_chars_to_padding_mask] = True\n",
    "        decoder_padding_mask_self_attention[idx, fuh_chars_to_padding_mask, :] = True\n",
    "        decoder_padding_mask_cross_attention[idx, :, eng_chars_to_padding_mask] = True\n",
    "        decoder_padding_mask_cross_attention[idx, fuh_chars_to_padding_mask, :] = True\n",
    "\n",
    "    encoder_self_attention_mask = torch.where(encoder_padding_mask, NEG_INFTY, 0)\n",
    "    decoder_self_attention_mask = torch.where(look_ahead_mask + decoder_padding_mask_self_attention, NEG_INFTY, 0)\n",
    "    decoder_cross_attention_mask = torch.where(decoder_padding_mask_cross_attention, NEG_INFTY, 0)\n",
    "    return encoder_self_attention_mask, decoder_self_attention_mask, decoder_cross_attention_mask"
   ]
  },
  {
   "cell_type": "code",
   "execution_count": null,
   "metadata": {},
   "outputs": [],
   "source": [
    "transformer.train()\n",
    "transformer.to(device)\n",
    "total_loss = 0\n",
    "num_epochs = 10\n",
    "\n",
    "for epoch in range(num_epochs):\n",
    "    print(f\"Epoch {epoch}\")\n",
    "    iterator = iter(train_loader)\n",
    "    for batch_num, batch in enumerate(iterator):\n",
    "        transformer.train()\n",
    "        eng_batch, fuh_batch = batch\n",
    "        encoder_self_attention_mask, decoder_self_attention_mask, decoder_cross_attention_mask = create_masks(eng_batch, fuh_batch)\n",
    "        optim.zero_grad()\n",
    "        fuh_predictions = transformer(\n",
    "            eng_batch,\n",
    "            fuh_batch,\n",
    "            encoder_self_attention_mask.to(device),\n",
    "            decoder_self_attention_mask.to(device),\n",
    "            decoder_cross_attention_mask.to(device),\n",
    "            enc_start_token = False,\n",
    "            enc_end_token = False,\n",
    "            dec_start_token = True,\n",
    "            dec_end_token = True\n",
    "        )\n",
    "        labels = transformer.decoder.sentence_embedding.batch_tokenize(fuh_batch, start_token=False, end_token=True)\n",
    "        loss = criterian(\n",
    "            fuh_predictions.view(-1, fuh_vocab_size).to(device),\n",
    "            labels.view(-1).to(device)\n",
    "        ).to(device)\n",
    "        valid_indices = torch.where(labels.view(-1) == fulfulde_to_index[PADDING_TOKEN], False, True)\n",
    "        loss = loss.sum() / valid_indices.sum()\n",
    "        loss.backward()\n",
    "        optim.step()\n",
    "\n",
    "        if batch_num % 100 == 0:\n",
    "            print(f\"Iteration {batch_num}: {loss.item()}\")\n",
    "            print(f\"English: {eng_batch[0]}\")\n",
    "            print(f\"fulfulde Translation: {fuh_batch[0]}\")\n",
    "            fuh_sentence_predicted = torch.argmax(fuh_predictions[0], axis=1)\n",
    "            predicted_sentence = \"\"\n",
    "            for idx in fuh_sentence_predicted:\n",
    "                if idx == fulfulde_to_index[END_TOKEN]:\n",
    "                    break\n",
    "                predicted_sentence += index_to_fulfulde[idx.item()]\n",
    "            print(f\"fulfulde Prediction: {predicted_sentence}\")\n",
    "\n",
    "            transformer.eval()\n",
    "            fuh_sentence = (\"\",)\n",
    "            eng_sentence = (\"i want to eat\",)\n",
    "            for word_counter in range(max_sequence_length):\n",
    "                encoder_self_attention_mask, decoder_self_attention_mask, decoder_cross_attention_mask = create_masks(eng_sentence, fuh_sentence)\n",
    "                predictions = transformer(\n",
    "                    eng_sentence,\n",
    "                    fuh_sentence,\n",
    "                    encoder_self_attention_mask.to(device),\n",
    "                    decoder_self_attention_mask.to(device),\n",
    "                    decoder_cross_attention_mask.to(device),\n",
    "                    enc_start_token = False,\n",
    "                    enc_end_token = False,\n",
    "                    dec_start_token = True,\n",
    "                    dec_end_token = False\n",
    "                )\n",
    "                next_token_prob_distribution = predictions[0][word_counter]\n",
    "                next_token_index = torch.argmax(next_token_prob_distribution).item()\n",
    "                next_token = index_to_fulfulde[next_token_index]\n",
    "                fuh_sentence = (fuh_sentence[0] + next_token, )\n",
    "                if next_token == END_TOKEN:\n",
    "                    break\n",
    "\n",
    "            print(f\"Evaluation translation (i want to eat) : {fuh_sentence}\")\n",
    "            print(\"--------------------------------------------------------\")\n"
   ]
  }
 ],
 "metadata": {
  "kernelspec": {
   "display_name": "Python 3",
   "language": "python",
   "name": "python3"
  },
  "language_info": {
   "codemirror_mode": {
    "name": "ipython",
    "version": 3
   },
   "file_extension": ".py",
   "mimetype": "text/x-python",
   "name": "python",
   "nbconvert_exporter": "python",
   "pygments_lexer": "ipython3",
   "version": "3.12.3"
  }
 },
 "nbformat": 4,
 "nbformat_minor": 2
}
