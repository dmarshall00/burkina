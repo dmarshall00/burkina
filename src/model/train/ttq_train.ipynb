{
 "cells": [
  {
   "cell_type": "code",
   "execution_count": null,
   "metadata": {},
   "outputs": [],
   "source": [
    "from transformer import Transformer\n",
    "import torch\n",
    "import numpy as np"
   ]
  },
  {
   "cell_type": "code",
   "execution_count": null,
   "metadata": {},
   "outputs": [],
   "source": [
    "tawellemmet_file = '/Users/dmarshall/Burkina-Testing/corpus/en-ttq/parallel/ttq.txt'\n",
    "english_file = '/Users/dmarshall/Burkina-Testing/corpus/en-ttq/parallel/en.txt'\n",
    "\n",
    "START_TOKEN = ''\n",
    "PADDING_TOKEN = ''\n",
    "END_TOKEN = ''\n",
    "\n",
    "tawellemmet_vocab = [START_TOKEN, ' ', '!', '\"', '#', '$', '%', '&', \"'\", '(', ')', '*', '+', ',', '-', '.', '/',\n",
    "                    '0', '1', '2', '3', '4', '5', '6', '7', '8', '9', ':', '<', '=', '>', '?', ',',\n",
    "                    'a', 'b', 'ɓ', 'c', 'd', 'ɗ', 'e', 'f', 'g', 'h', 'i', 'j', 'k', 'l', 'm', 'n', 'ŋ', 'o', 'p', 'r',\n",
    "                    's', 't', 'u', 'w', 'y', 'z', PADDING_TOKEN, END_TOKEN]\n",
    "\n",
    "english_vocab = [START_TOKEN, ' ', '!', '\"', '#', '$', '%', '&', \"'\", '(', ')', '*', '+', ',', '-', '.', '/',\n",
    "                '0', '1', '2', '3', '4', '5', '6', '7', '8', '9', ':', '<', '=', '>', '?', ',', '0', '1', '2',\n",
    "                '3', '4', '5', '6', '7', '8', '9', ':', '<', '=', '>', '?', '@', '[', '\\'', ']', '^', '_', '`',\n",
    "                'a', 'b', 'c', 'd', 'e', 'f', 'g', 'h', 'i', 'j', 'k', 'l', 'm', 'n', 'o', 'p', 'q', 'r', 's', 't',\n",
    "                'u', 'v', 'w', 'x', 'y', 'z', '{', '|', '}', '~', PADDING_TOKEN, END_TOKEN]\n",
    "\n",
    "with open(tawellemmet_file, 'r') as file:\n",
    "    tawellemmet_sentences = file.readlines()\n",
    "with open(english_file, 'r') as file:\n",
    "    english_sentences = file.readlines()\n",
    "\n",
    "TOTAL_SENTENCES = 100000\n",
    "tawellemmet_sentences = tawellemmet_sentences[:TOTAL_SENTENCES]\n",
    "english_sentences = english_sentences[:TOTAL_SENTENCES]\n",
    "\n",
    "tawallemmet_sentences = [sentence.rstrip('\\n') for sentence in tawellemmet_sentences]\n",
    "english_sentences = [sentence.rstrip('\\n').lower() for sentence in english_sentences]"
   ]
  },
  {
   "cell_type": "code",
   "execution_count": null,
   "metadata": {},
   "outputs": [],
   "source": [
    "tawallemmet_sentences[:10]"
   ]
  },
  {
   "cell_type": "code",
   "execution_count": null,
   "metadata": {},
   "outputs": [],
   "source": [
    "english_sentences[:10]"
   ]
  },
  {
   "cell_type": "code",
   "execution_count": null,
   "metadata": {},
   "outputs": [],
   "source": [
    "import numpy as np\n",
    "PERCENTILE = 97\n",
    "print( f\"{PERCENTILE}th percentile length Tawellemmet: {np.percentile([len(x) for x in tawellemmet_sentences], PERCENTILE)}\" )\n",
    "print( f\"{PERCENTILE}th percentile length English: {np.percentile([len(x) for x in english_sentences], PERCENTILE)}\" )"
   ]
  },
  {
   "cell_type": "code",
   "execution_count": null,
   "metadata": {},
   "outputs": [],
   "source": [
    "max_sequence_length = 200\n",
    "\n",
    "def is_valid_tokens(sentence, vocab):\n",
    "    for token in list(set(sentence)):\n",
    "        if token not in vocab:\n",
    "            return False\n",
    "    return True\n",
    "\n",
    "def is_valid_length(sentence, max_sequence_length):\n",
    "    return len(list(sentence)) < (max_sequence_length - 1)\n",
    "\n",
    "valid_sentence_indices = []\n",
    "for index in range(len(tawellemmet_sentences)):\n",
    "    tawellemmet_sentence, english_sentence = tawellemmet_sentences[index], english_sentences[index]\n",
    "    if is_valid_length(tawellemmet_sentence, max_sequence_length) \\\n",
    "        and is_valid_length(english_sentence, max_sequence_length) \\\n",
    "        and is_valid_tokens(tawellemmet_sentence, tawellemmet_vocab):\n",
    "            valid_sentence_indices.append(index)\n",
    "\n",
    "print(f\"Number of sentences: {len(tawellemmet_sentences)}\")\n",
    "print(f\"Number of valid sentences: {len(valid_sentence_indices)}\")"
   ]
  }
 ],
 "metadata": {
  "kernelspec": {
   "display_name": "Python 3",
   "language": "python",
   "name": "python3"
  },
  "language_info": {
   "codemirror_mode": {
    "name": "ipython",
    "version": 3
   },
   "file_extension": ".py",
   "mimetype": "text/x-python",
   "name": "python",
   "nbconvert_exporter": "python",
   "pygments_lexer": "ipython3",
   "version": "3.12.3"
  }
 },
 "nbformat": 4,
 "nbformat_minor": 2
}
